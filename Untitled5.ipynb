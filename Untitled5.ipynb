{
  "nbformat": 4,
  "nbformat_minor": 0,
  "metadata": {
    "colab": {
      "provenance": [],
      "mount_file_id": "1zR1F6OUJK5ZhCQ8e8dCwQMLMbYYVMBgp",
      "authorship_tag": "ABX9TyMg8uqys304skV+7j/2LxDe",
      "include_colab_link": true
    },
    "kernelspec": {
      "name": "python3",
      "display_name": "Python 3"
    },
    "language_info": {
      "name": "python"
    }
  },
  "cells": [
    {
      "cell_type": "markdown",
      "metadata": {
        "id": "view-in-github",
        "colab_type": "text"
      },
      "source": [
        "<a href=\"https://colab.research.google.com/github/NandhiniCR/neural-networks-icp-1/blob/main/Untitled5.ipynb\" target=\"_parent\"><img src=\"https://colab.research.google.com/assets/colab-badge.svg\" alt=\"Open In Colab\"/></a>"
      ]
    },
    {
      "cell_type": "code",
      "execution_count": null,
      "metadata": {
        "id": "aFd2TH3sezxo"
      },
      "outputs": [],
      "source": [
        "import pandas as pd\n",
        "import matplotlib.pyplot as plt\n",
        "\n",
        "dataframe = pd.read_csv('/content/drive/MyDrive/data (1).csv')\n",
        "\n",
        "description = dataframe.describe()\n",
        "print(description)\n",
        "\n",
        "null_values = dataframe.isnull().sum()\n",
        "print(\"Null Values:\\n\", null_values)\n",
        "\n",
        "dataframe.fillna(dataframe.mean(), inplace=True)\n",
        "\n",
        "agg_columns = ['Duration', 'Calories']\n",
        "agg_functions = {\n",
        "    'Duration': ['min', 'max', 'count', 'mean'],\n",
        "    'Calories': ['min', 'max', 'count', 'mean']\n",
        "}\n",
        "aggregated_data = dataframe[agg_columns].agg(agg_functions)\n",
        "print(\"Aggregated Data:\\n\", aggregated_data)\n",
        "\n",
        "filtered_dataframe_calories = dataframe[(dataframe['Calories'] >= 500) & (dataframe['Calories'] <= 1000)]\n",
        "\n",
        "filtered_dataframe_cal_pulse = dataframe[(dataframe['Calories'] > 500) & (dataframe['Pulse'] < 100)]\n",
        "\n",
        "\n",
        "dataframe_modified = dataframe.drop(columns=['Maxpulse'])\n",
        "dataframe.drop(columns=['Maxpulse'], inplace=True)\n",
        "\n",
        "dataframe['Calories'] = dataframe['Calories'].astype(int)\n",
        "\n",
        "plt.scatter(dataframe['Duration'], dataframe['Calories'])\n",
        "plt.xlabel('Duration')\n",
        "plt.ylabel('Calories')\n",
        "plt.title('Scatter Plot of Duration vs. Calories')\n",
        "plt.show()\n"
      ]
    },
    {
      "cell_type": "code",
      "source": [
        "import pandas as pd\n",
        "from sklearn.model_selection import train_test_split\n",
        "from sklearn.linear_model import LinearRegression\n",
        "from sklearn.metrics import mean_squared_error\n",
        "import matplotlib.pyplot as plt\n",
        "\n",
        "data = pd.read_csv('/content/drive/MyDrive/Salary_Data (1).csv')\n",
        "\n",
        "X = data[['YearsExperience']]\n",
        "y = data['Salary']\n",
        "X_train, X_test, y_train, y_test = train_test_split(X, y, test_size=0.33, random_state=42)\n",
        "\n",
        "model = LinearRegression()\n",
        "model.fit(X_train, y_train)\n",
        "\n",
        "y_pred = model.predict(X_test)\n",
        "\n",
        "mse = mean_squared_error(y_test, y_pred)\n",
        "print(f\"Mean Squared Error: {mse}\")\n",
        "\n",
        "plt.scatter(X_train, y_train, label='Train Data', color='blue')\n",
        "plt.scatter(X_test, y_test, label='Test Data', color='red')\n",
        "plt.plot(X_test, y_pred, label='Predicted', color='green')\n",
        "plt.xlabel('Years of Experience')\n",
        "plt.ylabel('Salary')\n",
        "plt.legend()\n",
        "plt.title('Salary vs. Years of Experience')\n",
        "plt.show()"
      ],
      "metadata": {
        "id": "hShTZp7QtfDP"
      },
      "execution_count": null,
      "outputs": []
    }
  ]
}