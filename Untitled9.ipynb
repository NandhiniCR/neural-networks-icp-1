{
  "nbformat": 4,
  "nbformat_minor": 0,
  "metadata": {
    "colab": {
      "provenance": [],
      "mount_file_id": "143UR3IxShqg3HarygszVjsF29B-BRAk9",
      "authorship_tag": "ABX9TyPMwBTMUHtL09M1mrwuXFev",
      "include_colab_link": true
    },
    "kernelspec": {
      "name": "python3",
      "display_name": "Python 3"
    },
    "language_info": {
      "name": "python"
    }
  },
  "cells": [
    {
      "cell_type": "markdown",
      "metadata": {
        "id": "view-in-github",
        "colab_type": "text"
      },
      "source": [
        "<a href=\"https://colab.research.google.com/github/NandhiniCR/neural-networks-icp-1/blob/main/Untitled9.ipynb\" target=\"_parent\"><img src=\"https://colab.research.google.com/assets/colab-badge.svg\" alt=\"Open In Colab\"/></a>"
      ]
    },
    {
      "cell_type": "code",
      "source": [
        "from keras import Sequential\n",
        "from keras.datasets import mnist\n",
        "import numpy as np\n",
        "from keras.layers import Dense\n",
        "from keras.utils import to_categorical\n",
        "\n",
        "(train_images,train_labels),(test_images, test_labels) = mnist.load_data()\n",
        "\n",
        "print(train_images.shape[1:])\n",
        "#process the data\n",
        "#1. convert each image of shape 28*28 to 784 dimensional which will be fed to the network as a single feature\n",
        "dimData = np.prod(train_images.shape[1:])\n",
        "print(dimData)\n",
        "train_data = train_images.reshape(train_images.shape[0],dimData)\n",
        "test_data = test_images.reshape(test_images.shape[0],dimData)\n",
        "\n",
        "#convert data to float and scale values between 0 and 1\n",
        "train_data = train_data.astype('float')\n",
        "test_data = test_data.astype('float')\n",
        "#scale data\n",
        "train_data /=255.0\n",
        "test_data /=255.0\n",
        "#change the labels frominteger to one-hot encoding. to_categorical is doing the same thing as LabelEncoder()\n",
        "train_labels_one_hot = to_categorical(train_labels)\n",
        "test_labels_one_hot = to_categorical(test_labels)\n",
        "\n",
        "#creating network\n",
        "model = Sequential()\n",
        "model.add(Dense(515, activation='relu', input_shape=(dimData,)))\n",
        "model.add(Dense(515, activation='relu'))\n",
        "model.add(Dense(10, activation='softmax'))\n",
        "\n",
        "model.compile(optimizer='rmsprop', loss='categorical_crossentropy', metrics=['accuracy'])\n",
        "history = model.fit(train_data, train_labels_one_hot, batch_size=256, epochs=10, verbose=1,\n",
        "                   validation_data=(test_data, test_labels_one_hot))"
      ],
      "metadata": {
        "colab": {
          "base_uri": "https://localhost:8080/"
        },
        "id": "ZQxwI4HVx74U",
        "outputId": "384bc41a-a438-41d5-e0a8-ef7751fd66f4"
      },
      "execution_count": 12,
      "outputs": [
        {
          "output_type": "stream",
          "name": "stdout",
          "text": [
            "(28, 28)\n",
            "784\n",
            "Epoch 1/10\n",
            "235/235 [==============================] - 8s 29ms/step - loss: 0.2843 - accuracy: 0.9127 - val_loss: 0.1438 - val_accuracy: 0.9549\n",
            "Epoch 2/10\n",
            "235/235 [==============================] - 5s 21ms/step - loss: 0.1013 - accuracy: 0.9686 - val_loss: 0.0951 - val_accuracy: 0.9708\n",
            "Epoch 3/10\n",
            "235/235 [==============================] - 7s 30ms/step - loss: 0.0642 - accuracy: 0.9802 - val_loss: 0.1040 - val_accuracy: 0.9692\n",
            "Epoch 4/10\n",
            "235/235 [==============================] - 5s 21ms/step - loss: 0.0431 - accuracy: 0.9864 - val_loss: 0.0894 - val_accuracy: 0.9735\n",
            "Epoch 5/10\n",
            "235/235 [==============================] - 6s 24ms/step - loss: 0.0325 - accuracy: 0.9898 - val_loss: 0.0576 - val_accuracy: 0.9828\n",
            "Epoch 6/10\n",
            "235/235 [==============================] - 6s 27ms/step - loss: 0.0234 - accuracy: 0.9925 - val_loss: 0.0609 - val_accuracy: 0.9818\n",
            "Epoch 7/10\n",
            "235/235 [==============================] - 5s 21ms/step - loss: 0.0172 - accuracy: 0.9949 - val_loss: 0.0697 - val_accuracy: 0.9808\n",
            "Epoch 8/10\n",
            "235/235 [==============================] - 7s 29ms/step - loss: 0.0119 - accuracy: 0.9965 - val_loss: 0.0802 - val_accuracy: 0.9805\n",
            "Epoch 9/10\n",
            "235/235 [==============================] - 5s 21ms/step - loss: 0.0084 - accuracy: 0.9976 - val_loss: 0.0663 - val_accuracy: 0.9825\n",
            "Epoch 10/10\n",
            "235/235 [==============================] - 6s 24ms/step - loss: 0.0073 - accuracy: 0.9978 - val_loss: 0.0728 - val_accuracy: 0.9820\n"
          ]
        }
      ]
    },
    {
      "cell_type": "code",
      "source": [
        "import pandas\n",
        "from keras.models import Sequential\n",
        "from keras.layers.core import Dense, Activation\n",
        "\n",
        "# load dataset\n",
        "from sklearn.model_selection import train_test_split\n",
        "import pandas as pd\n",
        "import numpy as np\n",
        "\n",
        "dataset = pd.read_csv(\"diabetes.csv\", header=None).values\n",
        "\n",
        "X_train, X_test, Y_train, Y_test = train_test_split(dataset[:,0:8], dataset[:,8],\n",
        "                                                    test_size=0.25, random_state=87)\n",
        "np.random.seed(155)\n",
        "my_first_nn = Sequential() # create model\n",
        "my_first_nn.add(Dense(50, input_dim=8, activation='relu')) # hidden layer\n",
        "my_first_nn.add(Dense(1, activation='sigmoid')) # output layer\n",
        "my_first_nn.compile(loss='binary_crossentropy', optimizer='adam', metrics=['acc'])\n",
        "my_first_nn_fitted = my_first_nn.fit(X_train, Y_train, epochs=100,\n",
        "                                     initial_epoch=0)\n",
        "print(my_first_nn.summary())\n",
        "print(my_first_nn.evaluate(X_test, Y_test))\n"
      ],
      "metadata": {
        "id": "0Lmz06T1x_i_"
      },
      "execution_count": null,
      "outputs": []
    }
  ]
}