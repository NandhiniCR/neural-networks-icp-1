{
  "nbformat": 4,
  "nbformat_minor": 0,
  "metadata": {
    "colab": {
      "provenance": [],
      "authorship_tag": "ABX9TyNbPUVySf1gLnsBxtDeUWjc",
      "include_colab_link": true
    },
    "kernelspec": {
      "name": "python3",
      "display_name": "Python 3"
    },
    "language_info": {
      "name": "python"
    }
  },
  "cells": [
    {
      "cell_type": "markdown",
      "metadata": {
        "id": "view-in-github",
        "colab_type": "text"
      },
      "source": [
        "<a href=\"https://colab.research.google.com/github/NandhiniCR/neural-networks-icp-1/blob/main/Untitled0.ipynb\" target=\"_parent\"><img src=\"https://colab.research.google.com/assets/colab-badge.svg\" alt=\"Open In Colab\"/></a>"
      ]
    },
    {
      "cell_type": "code",
      "execution_count": 32,
      "metadata": {
        "colab": {
          "base_uri": "https://localhost:8080/"
        },
        "id": "Qk3HogGCib5i",
        "outputId": "83800827-1ea9-4727-c725-8a658c0b3a8e"
      },
      "outputs": [
        {
          "output_type": "stream",
          "name": "stdout",
          "text": [
            "Enter a string: python\n",
            "Reversed and modified string: htyp\n"
          ]
        }
      ],
      "source": [
        "\n",
        "string = input(\"Enter a string: \")\n",
        "Input = list(string)\n",
        "if len(Input)>=2:\n",
        " del Input[4:]\n",
        "Input.reverse()\n",
        "resultant_string = ''.join(Input)\n",
        "print(\"Reversed and modified string:\", resultant_string)\n"
      ]
    },
    {
      "cell_type": "code",
      "source": [
        "a = int(input(\"enter a number:\"))\n",
        "b = int(input(\"enter a number:\"))\n",
        "w = a+b\n",
        "print(w)\n",
        "x=a-b\n",
        "print(x)\n",
        "y=a*b\n",
        "print(y)\n",
        "z=a/b\n",
        "print(z)\n",
        "\n",
        "\n",
        "\n",
        "\n",
        "\n"
      ],
      "metadata": {
        "colab": {
          "base_uri": "https://localhost:8080/"
        },
        "id": "3XIGO826yxXW",
        "outputId": "db86f12f-f6be-4b86-8f24-698e97d4d021"
      },
      "execution_count": 19,
      "outputs": [
        {
          "output_type": "stream",
          "name": "stdout",
          "text": [
            "enter a number:10\n",
            "enter a number:2\n",
            "12\n",
            "8\n",
            "20\n",
            "5.0\n"
          ]
        }
      ]
    },
    {
      "cell_type": "code",
      "source": [
        "from ctypes import pythonapi\n",
        "m = input(\"enter a sentence:\")\n",
        "a='python'\n",
        "b= 'pythons'\n",
        "n =m.replace(a,b)\n",
        "print(n)"
      ],
      "metadata": {
        "colab": {
          "base_uri": "https://localhost:8080/"
        },
        "id": "EVDcksMi5Jyp",
        "outputId": "2b43897b-6870-416f-9b2f-43c68f560b2e"
      },
      "execution_count": 22,
      "outputs": [
        {
          "output_type": "stream",
          "name": "stdout",
          "text": [
            "enter a sentence:python is object oriented\n",
            "pythons is object oriented\n"
          ]
        }
      ]
    },
    {
      "cell_type": "code",
      "source": [
        "marks=int(input(\"enter obtained marks:\"))\n",
        "if marks>=90:\n",
        "   print(\"A grade\")\n",
        "elif marks>=80:\n",
        "    print(\" B grade\")\n",
        "elif marks>=70:\n",
        "    print(\"C  grade\")\n",
        "elif marks<=30:\n",
        "    print(\"F grade\")\n"
      ],
      "metadata": {
        "colab": {
          "base_uri": "https://localhost:8080/"
        },
        "id": "D9NMt-9q9Jw9",
        "outputId": "e3dd14ac-7ba2-444e-d589-e20be52fef1f"
      },
      "execution_count": 30,
      "outputs": [
        {
          "output_type": "stream",
          "name": "stdout",
          "text": [
            "enter obtained marks:95\n",
            "A grade\n"
          ]
        }
      ]
    }
  ]
}